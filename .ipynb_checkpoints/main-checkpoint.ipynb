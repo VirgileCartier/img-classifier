{
 "cells": [
  {
   "cell_type": "code",
   "execution_count": 19,
   "id": "e8c57947",
   "metadata": {},
   "outputs": [],
   "source": [
    "import torch\n",
    "import torch.nn as nn \n",
    "import torch.nn.functional as F\n",
    "import torchvision\n",
    "import torchvision.transforms as transforms\n",
    "import matplotlib.pyplot as plt\n",
    "import numpy as np\n",
    "import torch.optim as optim\n",
    "import matplotlib"
   ]
  },
  {
   "cell_type": "code",
   "execution_count": 12,
   "id": "c6e1001e",
   "metadata": {},
   "outputs": [],
   "source": [
    "class LeNet(nn.Module):\n",
    "\n",
    "    def __init__(self):\n",
    "        super(LeNet, self).__init__()\n",
    "\n",
    "        self.conv1 = nn.Conv2d(1, 6, 3)\n",
    "        self.conv2 = nn.Conv2d(6, 16, 3)\n",
    "\n",
    "        self.fc1 = nn.Linear(16 * 6 * 6, 120) # 6*6 -> dimension de l'image\n",
    "        self.fc2 = nn.Linear(120, 84)\n",
    "        self.fc3 = nn.Linear(84, 10)\n",
    "\n",
    "    def forward(self, x):\n",
    "        x = F.max_pool2d(F.relu(self.conv1(x)), (2, 2))\n",
    "\n",
    "        x = F.max_pool2d(F.relu(self.conv2(x)), 2)\n",
    "\n",
    "        x = x.view(-1, self.num_flat_features(x))\n",
    "\n",
    "        x = F.relu(self.fc1(x))\n",
    "        x = F.relu(self.fc2(x))\n",
    "\n",
    "        x = self.fc3(x)\n",
    "\n",
    "        return x\n",
    "\n",
    "    def num_flat_features(self, x):\n",
    "        size = x.size()[1:] # Toutes les dimensions sauf celle de batch\n",
    "        num_features = 1\n",
    "        for s in size:\n",
    "            num_features *= s\n",
    "        return num_features\n",
    "    \n",
    "net = LeNet()"
   ]
  },
  {
   "cell_type": "code",
   "execution_count": 15,
   "id": "a199b63f",
   "metadata": {},
   "outputs": [
    {
     "name": "stdout",
     "output_type": "stream",
     "text": [
      "Files already downloaded and verified\n"
     ]
    }
   ],
   "source": [
    "transform = transforms.Compose(\n",
    "    [transforms.ToTensor(), \n",
    "    transforms.Normalize((0.5, 0.5, 0.5), (0.5, 0.5, 0.5))] \n",
    ")\n",
    "\n",
    "trainset = torchvision.datasets.CIFAR10(root='./data', train = True, download = True, transform = transform)\n",
    "\n",
    "trainloader = torch.utils.data.DataLoader(trainset, batch_size = 4, shuffle = True, num_workers = 2)"
   ]
  },
  {
   "cell_type": "code",
   "execution_count": 20,
   "id": "83bce21c",
   "metadata": {},
   "outputs": [
    {
     "name": "stdout",
     "output_type": "stream",
     "text": [
      "  dog   car  frog   car\n"
     ]
    },
    {
     "data": {
      "image/png": "[encoded data removed]",
      "text/plain": [
       "<Figure size 640x480 with 1 Axes>"
      ]
     },
     "metadata": {},
     "output_type": "display_data"
    }
   ],
   "source": [
    "classes = ('plane', 'car', 'bird', 'cat', 'deer', 'dog', 'frog', 'horse', 'ship', 'truck')\n",
    "\n",
    "def imshow(img):\n",
    "    img = img / 2 + 0.5 \n",
    "    npimg = img.numpy()\n",
    "    plt.imshow(np.transpose(npimg, (1, 2, 0)))\n",
    "\n",
    "dataIter = iter(trainloader)\n",
    "images, labels = dataIter.next()\n",
    "\n",
    "# visualisations des images :\n",
    "imshow(torchvision.utils.make_grid(images))\n",
    "#print les labels correspondant :\n",
    "print(' '.join('%5s' % classes[labels[j]] for j in range(4)))"
   ]
  },
  {
   "cell_type": "code",
   "execution_count": 22,
   "id": "9dab8996",
   "metadata": {},
   "outputs": [
    {
     "name": "stdout",
     "output_type": "stream",
     "text": [
      "Files already downloaded and verified\n",
      "Files already downloaded and verified\n"
     ]
    }
   ],
   "source": [
    "# Entraînement :\n",
    "transform = transforms.Compose(\n",
    "    [transforms.ToTensor(),\n",
    "    transforms.Normalize((0.5, 0.5, 0.5), (0.5, 0.5, 0.5))]\n",
    ")\n",
    "\n",
    "trainset = torchvision.datasets.CIFAR10(root='./data', train = True, download = True, transform = transform)\n",
    "\n",
    "trainloader = torch.utils.data.DataLoader(trainset, batch_size = 4, shuffle = True, num_workers = 2)\n",
    "\n",
    "testset = torchvision.datasets.CIFAR10(root='./data', train = False, download = True, transform = transform)\n",
    "\n",
    "testloader = torch.utils.data.DataLoader(testset, batch_size = 4, shuffle = False, num_workers = 2)\n",
    "\n",
    "classes = ('plane', 'car', 'bird', 'cat', 'deer', 'dog', 'frog', 'horse', 'ship', 'truck')"
   ]
  },
  {
   "cell_type": "code",
   "execution_count": 23,
   "id": "370cca1e",
   "metadata": {},
   "outputs": [],
   "source": [
    "class Net(nn.Module):\n",
    "    def __init__(self):\n",
    "        super(Net, self).__init__()\n",
    "        self.conv1 = nn.Conv2d(3, 6, 5)\n",
    "        self.pool = nn.MaxPool2d(2, 2)\n",
    "        self.conv2 = nn.Conv2d(6, 16, 5)\n",
    "        self.fc1 = nn.Linear(16 * 5 * 5, 120)\n",
    "        self.fc2 = nn.Linear(120, 84)\n",
    "        self.fc3 = nn.Linear(84, 10)\n",
    "\n",
    "    def forward(self, x):\n",
    "        x = self.pool(F.relu(self.conv1(x)))\n",
    "        x = self.pool(F.relu(self.conv2(x)))\n",
    "        x = x.view(-1, 16 * 5 * 5)\n",
    "        x = F.relu(self.fc1(x))\n",
    "        x = F.relu(self.fc2(x))\n",
    "        x = self.fc3(x)\n",
    "        return x\n",
    "\n",
    "net = Net()"
   ]
  },
  {
   "cell_type": "code",
   "execution_count": 28,
   "id": "a211d32e",
   "metadata": {},
   "outputs": [
    {
     "name": "stdout",
     "output_type": "stream",
     "text": [
      "[1,  2000] loss : 0.968\n",
      "[1,  4000] loss : 0.967\n",
      "[1,  6000] loss : 0.993\n",
      "[1,  8000] loss : 1.010\n",
      "[1, 10000] loss : 1.001\n",
      "[1, 12000] loss : 0.993\n",
      "[2,  2000] loss : 0.901\n",
      "[2,  4000] loss : 0.928\n",
      "[2,  6000] loss : 0.939\n",
      "[2,  8000] loss : 0.944\n",
      "[2, 10000] loss : 0.954\n",
      "[2, 12000] loss : 0.950\n",
      "[3,  2000] loss : 0.865\n",
      "[3,  4000] loss : 0.881\n",
      "[3,  6000] loss : 0.909\n",
      "[3,  8000] loss : 0.899\n",
      "[3, 10000] loss : 0.921\n",
      "[3, 12000] loss : 0.924\n",
      "[4,  2000] loss : 0.820\n",
      "[4,  4000] loss : 0.863\n",
      "[4,  6000] loss : 0.859\n",
      "[4,  8000] loss : 0.867\n",
      "[4, 10000] loss : 0.891\n",
      "[4, 12000] loss : 0.902\n",
      "[5,  2000] loss : 0.787\n",
      "[5,  4000] loss : 0.806\n",
      "[5,  6000] loss : 0.820\n",
      "[5,  8000] loss : 0.860\n",
      "[5, 10000] loss : 0.837\n",
      "[5, 12000] loss : 0.873\n",
      "[6,  2000] loss : 0.730\n",
      "[6,  4000] loss : 0.789\n",
      "[6,  6000] loss : 0.816\n",
      "[6,  8000] loss : 0.813\n",
      "[6, 10000] loss : 0.855\n",
      "[6, 12000] loss : 0.838\n",
      "entraînement terminé\n",
      "Précision du système sur les 10 000 images de test : 61 %\n"
     ]
    }
   ],
   "source": [
    "#fonction de perte et optimizer :\n",
    "criterion = nn.CrossEntropyLoss()\n",
    "optimizer = optim.SGD(net.parameters(), lr = 0.001, momentum = 0.9)\n",
    "\n",
    "for periode in range(2): \n",
    "\n",
    "    running_loss = 0.0\n",
    "\n",
    "    for i, data in enumerate(trainloader, 0): #données d'entraînement\n",
    "        #obtenir les inputs\n",
    "        inputs, labels = data\n",
    "\n",
    "        optimizer.zero_grad() #zeroing grad\n",
    "\n",
    "        #forward + bacwkard + optimisation\n",
    "        outputs = net(inputs) # prédiction du modèle pour un batch donné\n",
    "        loss = criterion(outputs, labels) # calcul de perte entre output - prédiction du modèle - et label - l'output correct\n",
    "        loss.backward() # backward pass pour calculer les gradients qui vont diriger l'apprentissage\n",
    "        optimizer.step() # l'optimizer fait 1 learning step - utilise les gradients de l'appel de backward() pour modifier les poids d'apprentissage vers ce optimal\n",
    "\n",
    "        #print stats :\n",
    "        running_loss += loss.item()\n",
    "        if i % 2000 == 1999: # print tous les 2000 mini-batch_size\n",
    "            print('[%d, %5d] loss : %.3f' %(periode + 1, i + 1, running_loss / 2000))\n",
    "            running_loss = 0.0\n",
    "\n",
    "print('entraînement terminé')\n",
    "\n",
    "correct = 0\n",
    "total = 0\n",
    "with torch.no_grad():\n",
    "    for data in testloader:\n",
    "        images, labels = data\n",
    "        outputs = net(images)\n",
    "        _, predicted = torch.max(outputs.data, 1)\n",
    "        total += labels.size(0)\n",
    "        correct += (predicted == labels).sum().item()\n",
    "\n",
    "print('Précision du système sur les 10 000 images de test : %d %%'%(100*correct/total))"
   ]
  }
 ],
 "metadata": {
  "kernelspec": {
   "display_name": "Python 3 (ipykernel)",
   "language": "python",
   "name": "python3"
  },
  "language_info": {
   "codemirror_mode": {
    "name": "ipython",
    "version": 3
   },
   "file_extension": ".py",
   "mimetype": "text/x-python",
   "name": "python",
   "nbconvert_exporter": "python",
   "pygments_lexer": "ipython3",
   "version": "3.7.13"
  }
 },
 "nbformat": 4,
 "nbformat_minor": 5
}
